{
 "cells": [
  {
   "cell_type": "markdown",
   "metadata": {},
   "source": [
    "Detection of sarcasm in sentences - \n",
    "In this notebook, we have tried 3 methods for detecting sarcasm in sentences - \n",
    "1. Basic Linear Regression\n",
    "2. Bidirectional LSTM\n",
    "3. Attention-Like Classifier\n",
    "\n",
    "We have tried these methods on \"News Headlines Dataset For Sarcasm Detection\" in Kaggle. We have reached 87% accuracy in the third method.\n",
    "\n"
   ]
  },
  {
   "cell_type": "code",
   "execution_count": 1,
   "metadata": {},
   "outputs": [
    {
     "name": "stderr",
     "output_type": "stream",
     "text": [
      "[nltk_data] Downloading package averaged_perceptron_tagger to\n",
      "[nltk_data]     C:\\Users\\Asaf Karnieli\\AppData\\Roaming\\nltk_data...\n",
      "[nltk_data]   Package averaged_perceptron_tagger is already up-to-\n",
      "[nltk_data]       date!\n",
      "[nltk_data] Downloading package punkt to C:\\Users\\Asaf\n",
      "[nltk_data]     Karnieli\\AppData\\Roaming\\nltk_data...\n",
      "[nltk_data]   Package punkt is already up-to-date!\n"
     ]
    }
   ],
   "source": [
    "## Imports ##\n",
    "import pandas as pd\n",
    "import numpy as np\n",
    "import matplotlib.pyplot as plt\n",
    "%matplotlib inline\n",
    "import os\n",
    "import re\n",
    "import copy\n",
    "import multiprocessing as mp\n",
    "num_procs =  mp.cpu_count()\n",
    "from multiprocessing import Pool\n",
    "\n",
    "\n",
    "import torch \n",
    "import torch.nn as nn\n",
    "import torchvision\n",
    "import torchvision.transforms as transforms\n",
    "from torch.nn import functional as F\n",
    "from torch.optim.lr_scheduler import StepLR\n",
    "\n",
    "import nltk\n",
    "from nltk import pos_tag, word_tokenize\n",
    "nltk.download('averaged_perceptron_tagger')\n",
    "nltk.download('punkt')\n",
    "\n",
    "from sklearn import metrics\n",
    "from sklearn.metrics import auc, roc_curve"
   ]
  },
  {
   "cell_type": "code",
   "execution_count": 2,
   "metadata": {
    "scrolled": true
   },
   "outputs": [
    {
     "name": "stderr",
     "output_type": "stream",
     "text": [
      "C:\\Users\\Asaf Karnieli\\Anaconda3\\lib\\site-packages\\gensim\\utils.py:1197: UserWarning: detected Windows; aliasing chunkize to chunkize_serial\n",
      "  warnings.warn(\"detected Windows; aliasing chunkize to chunkize_serial\")\n",
      "C:\\Users\\Asaf Karnieli\\Anaconda3\\lib\\site-packages\\smart_open\\smart_open_lib.py:398: UserWarning: This function is deprecated, use smart_open.open instead. See the migration notes for details: https://github.com/RaRe-Technologies/smart_open/blob/master/README.rst#migrating-to-the-new-open-function\n",
      "  'See the migration notes for details: %s' % _MIGRATION_NOTES_URL\n"
     ]
    }
   ],
   "source": [
    "import gensim.downloader as api\n",
    "model_types = [\"glove-wiki-gigaword-100\"] #\"glove-twitter-100\", \"glove-wiki-gigaword-100\", \"glove-wiki-gigaword-300\"] ### FIXME!!\n",
    "word2vec_model_dict = {}\n",
    "\n",
    "for model_type in model_types:\n",
    "    word2vec_model_dict[model_type] = api.load(model_type)\n",
    "    "
   ]
  },
  {
   "cell_type": "code",
   "execution_count": 3,
   "metadata": {},
   "outputs": [
    {
     "data": {
      "text/html": [
       "<div>\n",
       "<style scoped>\n",
       "    .dataframe tbody tr th:only-of-type {\n",
       "        vertical-align: middle;\n",
       "    }\n",
       "\n",
       "    .dataframe tbody tr th {\n",
       "        vertical-align: top;\n",
       "    }\n",
       "\n",
       "    .dataframe thead th {\n",
       "        text-align: right;\n",
       "    }\n",
       "</style>\n",
       "<table border=\"1\" class=\"dataframe\">\n",
       "  <thead>\n",
       "    <tr style=\"text-align: right;\">\n",
       "      <th></th>\n",
       "      <th>is_sarcastic</th>\n",
       "    </tr>\n",
       "  </thead>\n",
       "  <tbody>\n",
       "    <tr>\n",
       "      <th>count</th>\n",
       "      <td>28619.000000</td>\n",
       "    </tr>\n",
       "    <tr>\n",
       "      <th>mean</th>\n",
       "      <td>0.476397</td>\n",
       "    </tr>\n",
       "    <tr>\n",
       "      <th>std</th>\n",
       "      <td>0.499451</td>\n",
       "    </tr>\n",
       "    <tr>\n",
       "      <th>min</th>\n",
       "      <td>0.000000</td>\n",
       "    </tr>\n",
       "    <tr>\n",
       "      <th>25%</th>\n",
       "      <td>0.000000</td>\n",
       "    </tr>\n",
       "    <tr>\n",
       "      <th>50%</th>\n",
       "      <td>0.000000</td>\n",
       "    </tr>\n",
       "    <tr>\n",
       "      <th>75%</th>\n",
       "      <td>1.000000</td>\n",
       "    </tr>\n",
       "    <tr>\n",
       "      <th>max</th>\n",
       "      <td>1.000000</td>\n",
       "    </tr>\n",
       "  </tbody>\n",
       "</table>\n",
       "</div>"
      ],
      "text/plain": [
       "       is_sarcastic\n",
       "count  28619.000000\n",
       "mean       0.476397\n",
       "std        0.499451\n",
       "min        0.000000\n",
       "25%        0.000000\n",
       "50%        0.000000\n",
       "75%        1.000000\n",
       "max        1.000000"
      ]
     },
     "execution_count": 3,
     "metadata": {},
     "output_type": "execute_result"
    }
   ],
   "source": [
    "# data_url = \"https://raw.githubusercontent.com/asafkar/sarcarsm_detection/master/Sarcasm_Headlines_Dataset_v2.json\"\n",
    "\n",
    "data_url = os.path.join(os.getcwd(),\"Sarcasm_Headlines_Dataset_v2.json\")\n",
    "\n",
    "# Read the Data, remove \"article_link\", and display properties\n",
    "df = pd.read_json(open(data_url, \"r\", encoding=\"utf8\"), lines=True)\n",
    "df = df[['headline','is_sarcastic']]\n",
    "df['headline'] = df['headline'].apply(lambda x: x.lower())\n",
    "df['headline'] = df['headline'].apply((lambda x: re.sub('[^a-zA-z0-9\\s]','',x)))\n",
    "df.describe()\n"
   ]
  },
  {
   "cell_type": "code",
   "execution_count": 4,
   "metadata": {},
   "outputs": [],
   "source": [
    "# go over the data. \n",
    "# data_padded is the data padded, in order to receive fixed length sentences\n",
    "\n",
    "def second_longest_sentence():\n",
    "    longest_sentence = 0\n",
    "    second_longest = 0\n",
    "    for sents in df['headline'].values:\n",
    "        if len(sents.split()) > longest_sentence:\n",
    "            second_longest = longest_sentence\n",
    "            longest_sentence = len(sents.split())\n",
    "    return second_longest\n",
    "\n",
    "model_sentence_length = second_longest_sentence()\n",
    "\n",
    "def word2vec(word, word_embedding_model):\n",
    "    try:\n",
    "        return word_embedding_model[word]\n",
    "    except:\n",
    "        return word_embedding_model['unk']\n",
    "\n",
    "    \n",
    "def sentence2vecs(sentence, word_embedding_model):\n",
    "    return [word2vec(x, word_embedding_model) for x in sentence.split()]\n",
    "\n",
    "\n",
    "# function to encode ntlk POS tags. 0 is none\n",
    "def tag_to_num(tag):\n",
    "    pos_tags_list = ['CC', 'CD', 'EX', 'FW', 'IN', 'JJ', 'JJR', 'JJS', 'LS', 'MD', 'NN', 'NNS','NNP', \\\n",
    "                  'NNPS', 'PDT', 'POS', 'PRP', 'PRP$', 'RB', 'RBR', 'RBS', 'RP', 'TO', 'UH', 'VB', \\\n",
    "                  'VBD', 'VBG', 'VBN', 'VBP', 'VBZ', 'WDT', 'WP', 'WP$', 'WRB'] \n",
    "    len_ = len(pos_tags_list)\n",
    "    mean_ = np.mean(np.arange(len_) )\n",
    "    std_ =  np.std(np.arange(len_) )\n",
    "    \n",
    "    if tag in pos_tags_list:\n",
    "        tag_emb =  (pos_tags_list.index(tag)+1)\n",
    "        return (tag_emb - mean_)/(2*std_)  # zero mean and std=1\n",
    "    else:\n",
    "        return 0\n",
    "\n",
    "   \n",
    "    \n",
    "# word2vec - For each sample (sentence), turn each word into a word-embedding\n",
    "corpus_size = df['headline'].size\n",
    "\n",
    "# generate data according to word2vec module\n",
    "def gen_data(word_embedding_model, gen_pos_data=False):\n",
    "    word2vec_model_size = len(word_embedding_model['unk'])\n",
    "    \n",
    "    if gen_pos_data:\n",
    "        data_padded = np.zeros((corpus_size, model_sentence_length , word2vec_model_size+1))\n",
    "    else:\n",
    "        data_padded = np.zeros((corpus_size, model_sentence_length , word2vec_model_size))\n",
    "        \n",
    "    data = []\n",
    "    labels = np.zeros(corpus_size, dtype=np.int)\n",
    "    \n",
    "    indices = np.arange(corpus_size)\n",
    "    \n",
    "    for ii in range(df.shape[0]):\n",
    "        sents = df['headline'].iloc[ii]\n",
    "        tok_sents = word_tokenize(sents)\n",
    "#         temp_sents = []\n",
    "        labels[ii]= df['is_sarcastic'].iloc[ii]\n",
    "\n",
    "        vectors = sentence2vecs(sents, word_embedding_model)  # size = word2vec_model_size*sentence_length\n",
    "        data.append(vectors)\n",
    "        for jj, vector in enumerate(vectors):\n",
    "            if jj == model_sentence_length:\n",
    "                break\n",
    "            vec = np.asarray(vector)\n",
    "            if gen_pos_data:\n",
    "                \n",
    "                # [0][1] since this is the format - [('scientists', 'NNS')]\n",
    "                vec = np.hstack((vec, tag_to_num(pos_tag([tok_sents[jj]])[0][1]))) \n",
    "#                 print((tok_sents[jj]))\n",
    "#                 print(tag_to_num(pos_tag([tok_sents[jj]])[0][1])) \n",
    "            data_padded[ii, jj,:] = vec\n",
    "    \n",
    "    \n",
    "    # Split to Train and Test (For both padded and unpadded)\n",
    "    training_samples  = corpus_size*8//10\n",
    "    validation_samples = (corpus_size - training_samples)//2\n",
    "    test_samples = (corpus_size - training_samples)//2\n",
    "\n",
    "    np.random.shuffle(indices)\n",
    "    data_padded = data_padded[indices]\n",
    "    \n",
    "   \n",
    "    labels = labels[indices]\n",
    "    X_train = data_padded[:training_samples]\n",
    "    y_train = labels[:training_samples]\n",
    "\n",
    "    X_val = data_padded[training_samples: training_samples + validation_samples]\n",
    "    y_val = labels[training_samples: training_samples + validation_samples]\n",
    "\n",
    "    X_test = data_padded[training_samples+validation_samples: training_samples + validation_samples+test_samples]\n",
    "    y_test = labels[training_samples+validation_samples: training_samples      + validation_samples+test_samples]\n",
    "    \n",
    "    return X_train, y_train, X_val, y_val, X_test, y_test  #, X_train_raw, X_val_raw, X_test_raw\n",
    "        "
   ]
  },
  {
   "cell_type": "markdown",
   "metadata": {},
   "source": [
    "## Run the following cell once for every word2vec model you wish to try"
   ]
  },
  {
   "cell_type": "code",
   "execution_count": 5,
   "metadata": {},
   "outputs": [],
   "source": [
    "\n",
    "# model_types are [\"glove-twitter-100\", \"glove-wiki-gigaword-100\", \"glove-wiki-gigaword-300\"]\n",
    "curr_word2vec_model = word2vec_model_dict[\"glove-wiki-gigaword-100\"]\n",
    "word2vec_model_size = len(curr_word2vec_model['unk'])\n",
    "X_train, y_train, X_val, y_val, X_test, y_test  = gen_data(curr_word2vec_model)\n"
   ]
  },
  {
   "cell_type": "code",
   "execution_count": null,
   "metadata": {},
   "outputs": [],
   "source": []
  },
  {
   "cell_type": "markdown",
   "metadata": {},
   "source": [
    "*First Attempt - Linear Regression*"
   ]
  },
  {
   "cell_type": "code",
   "execution_count": 6,
   "metadata": {},
   "outputs": [
    {
     "name": "stderr",
     "output_type": "stream",
     "text": [
      "C:\\Users\\Asaf Karnieli\\Anaconda3\\lib\\site-packages\\sklearn\\linear_model\\logistic.py:432: FutureWarning: Default solver will be changed to 'lbfgs' in 0.22. Specify a solver to silence this warning.\n",
      "  FutureWarning)\n"
     ]
    },
    {
     "name": "stdout",
     "output_type": "stream",
     "text": [
      "Accuracy of Logistic regression classifier on training set: 0.82\n",
      "Accuracy of Logistic regression classifier  on test set: 0.78\n"
     ]
    }
   ],
   "source": [
    "\n",
    "from sklearn.linear_model import LogisticRegression\n",
    "X_train_flat = X_train.reshape(-1, model_sentence_length*(word2vec_model_size))\n",
    "X_val_flat = X_val.reshape(-1, model_sentence_length*(word2vec_model_size))\n",
    "X_test_flat = X_test.reshape(-1, model_sentence_length*(word2vec_model_size))\n",
    "log_reg = LogisticRegression()\n",
    "log_reg.fit(X_train_flat, y_train)\n",
    "\n",
    "print('Accuracy of Logistic regression classifier on training set: {:.2f}'\n",
    "     .format(log_reg.score(X_train_flat, y_train)))\n",
    "print('Accuracy of Logistic regression classifier  on test set: {:.2f}'\n",
    "     .format(log_reg.score(X_val_flat, y_val)))\n",
    "\n",
    "y_LR_test = log_reg.predict(X_test_flat)"
   ]
  },
  {
   "cell_type": "code",
   "execution_count": 97,
   "metadata": {},
   "outputs": [],
   "source": [
    "# function for training the model and retuning the trained model object\n",
    "\n",
    "def train_model(model, criterion, num_epochs, data_loader, optimizer, input_sz):\n",
    "    best_model_wts = copy.deepcopy(model.state_dict()) # this is how a model is copied\n",
    "    best_acc = 0.0\n",
    "    \n",
    "#     total_step = len(train_loader)\n",
    "    scheduler = StepLR(optimizer, step_size=3, gamma=0.1)\n",
    "    \n",
    "    for epoch in range(num_epochs):\n",
    "        print('-*' * 10)\n",
    "        print('Epoch {}/{}'.format(epoch+1, num_epochs))\n",
    "        \n",
    "        # Each epoch has a training and validation phase\n",
    "        for phase in ['train', 'val']:\n",
    "            if phase == 'train':\n",
    "                model.train()  # Set model to training mode\n",
    "            else:\n",
    "                model.eval()   # Set model to evaluate mode        \n",
    "\n",
    "            running_loss = 0.0   # total loss of the network at each epoch\n",
    "            running_corrects = 0 # number of correct predictions    \n",
    "            running_total = 0\n",
    "            \n",
    "            \n",
    "            for i, (sents, labels) in enumerate(data_loader[phase]):\n",
    "                sents = sents.reshape(-1, sequence_length, input_sz).to(device)\n",
    "                labels = labels.to(device)\n",
    "                optimizer.zero_grad()\n",
    "                \n",
    "                with torch.set_grad_enabled(phase == 'train'):\n",
    "                    # Forward pass\n",
    "                    outputs = model(sents)\n",
    "                    _, predicted = torch.max(outputs.data, 1)\n",
    "                    loss = criterion(outputs, labels)\n",
    "\n",
    "                    # Backward and optimize when training\n",
    "                    if phase == 'train':\n",
    "                        loss.backward()\n",
    "                        optimizer.step()\n",
    "                        \n",
    "                running_loss += loss.item()\n",
    "                running_corrects += (predicted == labels).sum().item() \n",
    "                running_total += labels.size(0)\n",
    "\n",
    "            if (phase == 'train'):\n",
    "                model.train_acc.append(running_corrects / running_total)\n",
    "                model.train_loss.append(running_loss / running_total)\n",
    "            else:\n",
    "                model.val_acc.append(running_corrects / running_total)\n",
    "                model.val_loss.append(running_loss / running_total)\n",
    "\n",
    "            epoch_loss = loss.item() \n",
    "            epoch_acc = running_corrects / running_total\n",
    "            scheduler.step()\n",
    "            print('{} Loss: {:.4f}  |  Acc: {:.4f} '.format(phase, epoch_loss, epoch_acc))\n",
    "            \n",
    "            # deep copy the model if better results were acquired\n",
    "            if phase == 'val' and epoch_acc > best_acc:\n",
    "                best_acc = epoch_acc\n",
    "                best_model_wts = copy.deepcopy(model.state_dict())\n",
    "\n",
    "    model.epochs_used = num_epochs\n",
    "    model.load_state_dict(best_model_wts)\n",
    "    return model"
   ]
  },
  {
   "cell_type": "code",
   "execution_count": 8,
   "metadata": {},
   "outputs": [],
   "source": [
    "def plot_graphs(best_model):\n",
    "    plt.figure(figsize=(6, 12))\n",
    "\n",
    "    plt.subplot(311)\n",
    "    plt.title(\"Accuracy\")\n",
    "    plt.xlabel(\"Epochs\")\n",
    "    plt.ylabel(\"Accuracy\")\n",
    "    plt.plot(range(1,best_model.epochs_used+1),best_model.train_acc,label=\"Train\")\n",
    "    plt.plot(range(1,best_model.epochs_used+1),best_model.val_acc,label=\"Validate\")\n",
    "    plt.xticks(np.arange(1, best_model.epochs_used+1, 1.0))\n",
    "    plt.legend()\n",
    "\n",
    "    plt.subplot(312)\n",
    "    plt.title(\"Loss\")\n",
    "    plt.xlabel(\"Epochs\")\n",
    "    plt.ylabel(\"Loss (Epoch average)\")\n",
    "    plt.plot(range(1,best_model.epochs_used+1),best_model.train_loss,label=\"Train\")\n",
    "    plt.plot(range(1,best_model.epochs_used+1),best_model.val_loss,label=\"Validate\")\n",
    "    plt.xticks(np.arange(1, best_model.epochs_used+1, 1.0))\n",
    "    plt.legend()\n",
    "\n",
    "    plt.tight_layout(pad=0.4, w_pad=0.5, h_pad=1.0)    "
   ]
  },
  {
   "cell_type": "markdown",
   "metadata": {},
   "source": [
    "*Second Attempt - Bidirectional LSTM*"
   ]
  },
  {
   "cell_type": "code",
   "execution_count": 43,
   "metadata": {},
   "outputs": [],
   "source": []
  },
  {
   "cell_type": "code",
   "execution_count": 9,
   "metadata": {},
   "outputs": [],
   "source": [
    "# CPU or GPU :\n",
    "device = torch.device('cuda' if torch.cuda.is_available() else 'cpu')\n",
    "\n",
    "# Hyper-parameters\n",
    "sequence_length = model_sentence_length\n",
    "input_size =      word2vec_model_size\n",
    "hidden_size = 128\n",
    "num_layers = 2\n",
    "num_classes = 2\n",
    "batch_size = 64\n",
    "num_epochs = 8\n",
    "learning_rate = 0.005\n",
    "lstm_dropout = 0.1\n",
    "\n",
    "\n",
    "# Data loader\n",
    "train_dataset = torch.utils.data.TensorDataset(torch.from_numpy(X_train).float(), torch.from_numpy(y_train).long())\n",
    "train_loader =  torch.utils.data.DataLoader(train_dataset, batch_size=batch_size, shuffle=False)\n",
    "\n",
    "test_dataset = torch.utils.data.TensorDataset(torch.from_numpy(X_test).float(), torch.from_numpy(y_test).long())\n",
    "test_loader =  torch.utils.data.DataLoader(test_dataset, batch_size=batch_size, shuffle=False)\n",
    "\n",
    "val_dataset = torch.utils.data.TensorDataset(torch.from_numpy(X_val).float(), torch.from_numpy(y_val).long())\n",
    "val_loader =  torch.utils.data.DataLoader(val_dataset, batch_size=batch_size, shuffle=False)\n",
    "\n",
    "data_loader = {\"train\" : train_loader, \"test\" : test_loader, \"val\" : val_loader}\n",
    "              "
   ]
  },
  {
   "cell_type": "code",
   "execution_count": 10,
   "metadata": {},
   "outputs": [],
   "source": [
    "# Base model - \n",
    "class BaseModel(nn.Module):\n",
    "    def __init__(self):\n",
    "        super(BaseModel, self).__init__()\n",
    "        # Store best model history\n",
    "        self.epochs_used = 0\n",
    "        self.train_loss = []\n",
    "        self.val_loss = []\n",
    "        self.train_acc = []\n",
    "        self.val_acc = []       \n",
    "        self.train_iou =[]\n",
    "        self.val_iou = []\n",
    "        self.avg_loss_l = []\n",
    "        avg_accuracy_l = []"
   ]
  },
  {
   "cell_type": "code",
   "execution_count": 11,
   "metadata": {},
   "outputs": [],
   "source": [
    "\n",
    "# Bidirectional LSTM (many to one)\n",
    "class BiLSTM(BaseModel):\n",
    "    def __init__(self, input_size, hidden_size, num_layers, num_classes, lstm_dropout):\n",
    "        super(BiLSTM, self).__init__()\n",
    "        self.hidden_size = hidden_size\n",
    "        self.num_layers = num_layers\n",
    "        self.lstm = nn.LSTM(input_size, hidden_size, num_layers, batch_first=True, bidirectional=True)\n",
    "        self.fc = nn.Linear(hidden_size*2, 2)  # 2 for bidirection\n",
    "    \n",
    "    def forward(self, x):\n",
    "        # Set initial states\n",
    "        h0 = torch.zeros(self.num_layers*2, x.size(0), self.hidden_size).to(device) # 2 for bidirection \n",
    "        c0 = torch.zeros(self.num_layers*2, x.size(0), self.hidden_size).to(device)\n",
    "        \n",
    "        # Forward propagate LSTM\n",
    "        out, _ = self.lstm(x, (h0, c0))  # out: tensor of shape (batch_size, seq_length, hidden_size*2)\n",
    "        \n",
    "        # Decode the hidden state of the last time step\n",
    "        out = self.fc(out[:, -1, :])\n",
    "        return out\n",
    "\n",
    "lstm_model = BiLSTM(input_size, hidden_size, num_layers, num_classes, lstm_dropout).to(device)\n",
    "\n",
    "\n",
    "# Loss and optimizer\n",
    "criterion = nn.CrossEntropyLoss()\n",
    "optimizer = torch.optim.Adam(lstm_model.parameters(), lr=learning_rate)\n",
    "    \n"
   ]
  },
  {
   "cell_type": "code",
   "execution_count": 12,
   "metadata": {},
   "outputs": [
    {
     "name": "stdout",
     "output_type": "stream",
     "text": [
      "-*-*-*-*-*-*-*-*-*-*\n",
      "Epoch 1/8\n",
      "train Loss: 0.6822  |  Acc: 0.5310 \n",
      "val Loss: 0.7137  |  Acc: 0.5143 \n",
      "-*-*-*-*-*-*-*-*-*-*\n",
      "Epoch 2/8\n",
      "train Loss: 0.4197  |  Acc: 0.6479 \n",
      "val Loss: 0.3508  |  Acc: 0.8249 \n",
      "-*-*-*-*-*-*-*-*-*-*\n",
      "Epoch 3/8\n",
      "train Loss: 0.3477  |  Acc: 0.8388 \n",
      "val Loss: 0.4378  |  Acc: 0.8291 \n",
      "-*-*-*-*-*-*-*-*-*-*\n",
      "Epoch 4/8\n",
      "train Loss: 0.3570  |  Acc: 0.8555 \n",
      "val Loss: 0.3986  |  Acc: 0.8351 \n",
      "-*-*-*-*-*-*-*-*-*-*\n",
      "Epoch 5/8\n",
      "train Loss: 0.3564  |  Acc: 0.8581 \n",
      "val Loss: 0.3996  |  Acc: 0.8361 \n",
      "-*-*-*-*-*-*-*-*-*-*\n",
      "Epoch 6/8\n",
      "train Loss: 0.3556  |  Acc: 0.8595 \n",
      "val Loss: 0.4004  |  Acc: 0.8361 \n",
      "-*-*-*-*-*-*-*-*-*-*\n",
      "Epoch 7/8\n",
      "train Loss: 0.3556  |  Acc: 0.8598 \n",
      "val Loss: 0.4004  |  Acc: 0.8361 \n",
      "-*-*-*-*-*-*-*-*-*-*\n",
      "Epoch 8/8\n",
      "train Loss: 0.3556  |  Acc: 0.8597 \n",
      "val Loss: 0.4004  |  Acc: 0.8361 \n"
     ]
    }
   ],
   "source": [
    "best_lstm_model = train_model(lstm_model, criterion, num_epochs, data_loader, optimizer, input_size)\n",
    " "
   ]
  },
  {
   "cell_type": "code",
   "execution_count": 13,
   "metadata": {},
   "outputs": [
    {
     "data": {
      "image/png": "[encoded data removed]",
      "text/plain": [
       "<Figure size 432x864 with 2 Axes>"
      ]
     },
     "metadata": {
      "needs_background": "light"
     },
     "output_type": "display_data"
    }
   ],
   "source": [
    "plot_graphs(best_lstm_model)"
   ]
  },
  {
   "cell_type": "markdown",
   "metadata": {},
   "source": [
    "*Third Attempt - Attention*"
   ]
  },
  {
   "cell_type": "code",
   "execution_count": 82,
   "metadata": {},
   "outputs": [],
   "source": [
    "# CPU or GPU :\n",
    "device = torch.device('cuda' if torch.cuda.is_available() else 'cpu')\n",
    "\n",
    "# Hyper-parameters\n",
    "sequence_length = model_sentence_length \n",
    "input_size =      word2vec_model_size   # embedding size\n",
    "hidden_size = input_size    # 128  # should be according to input_size? \n",
    "num_layers = 2\n",
    "num_classes = 2\n",
    "batch_size = 64\n",
    "num_epochs = 8\n",
    "learning_rate = 0.005\n",
    "lstm_dropout = 0.1  # dropout between 2 lstm layers\n",
    "alpha_dropout = 0.3 # dropout between attention output and fc\n",
    "\n"
   ]
  },
  {
   "cell_type": "markdown",
   "metadata": {},
   "source": [
    "Ideas are from the following paper - *Attention-Based Bidirectional Long Short-Term Memory Networks for\n",
    "Relation Classification*\n",
    "https://www.aclweb.org/anthology/P16-2034"
   ]
  },
  {
   "cell_type": "code",
   "execution_count": 83,
   "metadata": {},
   "outputs": [],
   "source": [
    "# Attention Like Model \n",
    "class AttentionModel(BaseModel):\n",
    "    def __init__(self, input_size, hidden_size, num_layers, num_classes, lstm_dropout, sequence_length, alpha_dropout):\n",
    "        super(AttentionModel, self).__init__()\n",
    "        self.hidden_size = hidden_size\n",
    "        self.num_layers = num_layers\n",
    "        self.lstm = nn.LSTM(input_size, hidden_size, num_layers, batch_first=True, bidirectional=True, dropout=lstm_dropout)\n",
    "        \n",
    "#         self.alpha_net = nn.Linear(hidden_size*2*sequence_length, sequence_length)\n",
    "        self.alpha_net = nn.Linear(hidden_size*2, 1)\n",
    "    \n",
    "        self.dropout = nn.Dropout(alpha_dropout)\n",
    "        self.fc = nn.Linear(hidden_size*2, num_classes)  # 2 for bidirection\n",
    "        self.input_size = input_size\n",
    "        \n",
    "    def attention_layer(self, input_from_lstm):\n",
    "        # H = {h1,h2...,ht} = input_from_lstm\n",
    "        # alpha = softmax(w*M)\n",
    "        M = nn.Tanh()(input_from_lstm).permute(1,0,2) # torch.Size([64, 29, 256]) - batch, sequence_length, hidden*2\n",
    "        \n",
    "#         print(\"M shape = {}\".format(M.shape))\n",
    "#         print(input_size)\n",
    "        M = M.contiguous().view((-1, 2*self.input_size))\n",
    "#         print(M.shape)\n",
    "        wM = self.alpha_net(M)\n",
    "#         print(wM.shape)\n",
    "        wM = wM.view((-1, sequence_length, 1)).squeeze()\n",
    "#         print(wM.shape)\n",
    "        \n",
    "        alpha_weights = F.softmax(wM, 1).unsqueeze(2) # includes w (weights) - sized hidden*2 - unsqueeze to add axis for bmm\n",
    "        \n",
    "        # r = H*alpha\n",
    "        #  bmm shape should be (b×n×m) and (b×m×p) then only it will give (b×n×p) as the output shape\n",
    "        r = torch.bmm(input_from_lstm.permute(1,2,0), alpha_weights).squeeze()\n",
    "        return r        \n",
    "    \n",
    "    def forward(self, x):\n",
    "        # Set initial states\n",
    "        h0 = torch.zeros(self.num_layers*2, x.size(0), self.hidden_size).to(device) # 2 for bidirection \n",
    "        c0 = torch.zeros(self.num_layers*2, x.size(0), self.hidden_size).to(device)\n",
    "        \n",
    "        # lstm_out: tensor of shape (batch_size, seq_length, hidden_size*2) - \n",
    "        # tensor containing the output features (h_t) from the last layer of the LSTM, for each t\n",
    "        \n",
    "        # last_hidden_state : (num_layers*2, batch_size, hidden_size) -\n",
    "        #  tensor containing the hidden state for t = seq_len ; used for backprop...\n",
    "        lstm_out, (last_hidden_state, last_cell_state) = self.lstm(x, (h0, c0)) \n",
    "        \n",
    "        attention_out = self.attention_layer(lstm_out.permute(1,0,2))\n",
    "        h_star = nn.Tanh()(attention_out)\n",
    "        out = self.fc(self.dropout((h_star)))\n",
    "        return out\n",
    "\n",
    "att_model = AttentionModel(input_size, hidden_size, num_layers, num_classes, lstm_dropout, \n",
    "                       sequence_length, alpha_dropout).to(device)\n",
    "\n",
    "\n",
    "# Loss and optimizer\n",
    "criterion = nn.CrossEntropyLoss()\n",
    "optimizer = torch.optim.Adam(att_model.parameters(), lr=learning_rate, weight_decay=0.0001)\n",
    "    \n",
    "\n"
   ]
  },
  {
   "cell_type": "code",
   "execution_count": 84,
   "metadata": {},
   "outputs": [
    {
     "name": "stdout",
     "output_type": "stream",
     "text": [
      "-*-*-*-*-*-*-*-*-*-*\n",
      "Epoch 1/8\n",
      "train Loss: 0.5026  |  Acc: 0.7596 \n",
      "val Loss: 0.3094  |  Acc: 0.8431 \n",
      "-*-*-*-*-*-*-*-*-*-*\n",
      "Epoch 2/8\n",
      "train Loss: 0.4125  |  Acc: 0.8453 \n",
      "val Loss: 0.2837  |  Acc: 0.8571 \n",
      "-*-*-*-*-*-*-*-*-*-*\n",
      "Epoch 3/8\n",
      "train Loss: 0.3166  |  Acc: 0.8842 \n",
      "val Loss: 0.2500  |  Acc: 0.8665 \n",
      "-*-*-*-*-*-*-*-*-*-*\n",
      "Epoch 4/8\n",
      "train Loss: 0.3269  |  Acc: 0.8971 \n",
      "val Loss: 0.2396  |  Acc: 0.8669 \n",
      "-*-*-*-*-*-*-*-*-*-*\n",
      "Epoch 5/8\n",
      "train Loss: 0.3223  |  Acc: 0.8979 \n",
      "val Loss: 0.2387  |  Acc: 0.8662 \n",
      "-*-*-*-*-*-*-*-*-*-*\n",
      "Epoch 6/8\n",
      "train Loss: 0.3324  |  Acc: 0.9010 \n",
      "val Loss: 0.2388  |  Acc: 0.8658 \n",
      "-*-*-*-*-*-*-*-*-*-*\n",
      "Epoch 7/8\n",
      "train Loss: 0.2937  |  Acc: 0.9018 \n",
      "val Loss: 0.2388  |  Acc: 0.8658 \n",
      "-*-*-*-*-*-*-*-*-*-*\n",
      "Epoch 8/8\n",
      "train Loss: 0.3422  |  Acc: 0.9003 \n",
      "val Loss: 0.2388  |  Acc: 0.8658 \n"
     ]
    }
   ],
   "source": [
    "# Train the model\n",
    "best_att_model = train_model(att_model, criterion, num_epochs, data_loader, optimizer, input_size)\n",
    "\n"
   ]
  },
  {
   "cell_type": "code",
   "execution_count": 89,
   "metadata": {},
   "outputs": [
    {
     "data": {
      "image/png": "[encoded data removed]",
      "text/plain": [
       "<Figure size 432x864 with 2 Axes>"
      ]
     },
     "metadata": {
      "needs_background": "light"
     },
     "output_type": "display_data"
    }
   ],
   "source": [
    "plot_graphs(best_att_model)"
   ]
  },
  {
   "cell_type": "code",
   "execution_count": null,
   "metadata": {},
   "outputs": [],
   "source": []
  },
  {
   "cell_type": "markdown",
   "metadata": {},
   "source": [
    "# 4th attempt - BiLSTM + Attention-like, with POS tagging information and deeper network\n"
   ]
  },
  {
   "cell_type": "code",
   "execution_count": 94,
   "metadata": {},
   "outputs": [],
   "source": [
    "# CPU or GPU :\n",
    "device = torch.device('cuda' if torch.cuda.is_available() else 'cpu')\n",
    "\n",
    "# Hyper-parameters\n",
    "sequence_length = model_sentence_length\n",
    "input_size_pos =      word2vec_model_size + 1  # embedding size\n",
    "hidden_size_pos = input_size_pos  # 128  # should be according to input_size? \n",
    "num_layers = 2\n",
    "num_classes = 2\n",
    "batch_size = 64\n",
    "num_epochs = 8\n",
    "learning_rate = 0.005\n",
    "lstm_dropout = 0.3  # dropout between 2 lstm layers\n",
    "alpha_dropout = 0.3 # dropout between attention output and fc\n",
    "\n",
    "\n",
    "\n"
   ]
  },
  {
   "cell_type": "code",
   "execution_count": 95,
   "metadata": {},
   "outputs": [],
   "source": [
    "# Attention Like Model \n",
    "class SarcasmNet(BaseModel):\n",
    "    def __init__(self, input_size, hidden_size, num_layers, num_classes, lstm_dropout, sequence_length, alpha_dropout):\n",
    "        super(SarcasmNet, self).__init__()\n",
    "#         print(input_size)\n",
    "        self.hidden_size = hidden_size\n",
    "        self.num_layers = num_layers\n",
    "        self.lstm = nn.LSTM(input_size, hidden_size, num_layers, batch_first=True, bidirectional=True, dropout=lstm_dropout)\n",
    "        \n",
    "#         self.alpha_net = nn.Linear(hidden_size*2*sequence_length, sequence_length)\n",
    "        self.alpha_net_1 = nn.Linear(input_size*2 + hidden_size , hidden_size)\n",
    "        self.alpha_net_2 = nn.Linear(hidden_size , 1)\n",
    "    \n",
    "        self.dropout = nn.Dropout(alpha_dropout)\n",
    "        self.dropout2 = nn.Dropout(alpha_dropout)\n",
    "        self.dropout3 = nn.Dropout(alpha_dropout)\n",
    "        \n",
    "        self.fc = nn.Linear(hidden_size*2, num_classes)  # 2 for bidirection\n",
    "        self.w = torch.nn.Parameter(data=torch.Tensor(2*hidden_size), requires_grad=True)\n",
    "        \n",
    "        self.bn1 = nn.BatchNorm1d(hidden_size)\n",
    "        self.bn2 = nn.BatchNorm1d(hidden_size)\n",
    "        self.input_size = input_size\n",
    "        self.hidden_size = hidden_size\n",
    "        \n",
    "    def attention_layer(self, input_from_lstm, x):\n",
    "        # H = {h1,h2...,ht} = input_from_lstm\n",
    "        # alpha = softmax(w*M)\n",
    "        M = nn.Tanh()(input_from_lstm).permute(1,0,2) # torch.Size([64, 29, 202]) - batch, sequence_length, hidden*2\n",
    "        \n",
    "        \n",
    "#         print(\"M shape = {}\".format(M.shape))\n",
    "#         print(\"x shape = {}\".format(x.shape))\n",
    "        \n",
    "        M_ = torch.cat((M, x), 2)\n",
    "#         print(\"M_ shape = {}\".format(M_.shape))\n",
    "        M_ = M_.contiguous().view((-1, (2*self.hidden_size + self.input_size)))\n",
    "#         print(\"M after view shape = {}\".format(M.shape))\n",
    "        wM = nn.Tanh()(self.bn1(self.alpha_net_1(M_)))\n",
    "        wM = self.alpha_net_2(wM)\n",
    "        \n",
    "#         print(\"wM shape = {}\".format(wM.shape))\n",
    "        wM = wM.view((-1, sequence_length, 1)).squeeze()\n",
    "        \n",
    "        alpha_weights = F.softmax(wM, 1).unsqueeze(2) # includes w (weights) - sized hidden*2 - unsqueeze to add axis for bmm\n",
    "        \n",
    "        # r = H*alpha\n",
    "        #  bmm shape should be (b×n×m) and (b×m×p) then only it will give (b×n×p) as the output shape\n",
    "        r = torch.bmm(input_from_lstm.permute(1,2,0), alpha_weights).squeeze()\n",
    "        return r        \n",
    "    \n",
    "    def forward(self, x):\n",
    "        # Set initial states\n",
    "        \n",
    "        h0 = torch.zeros(self.num_layers*2, x.size(0), self.hidden_size).to(device) # 2 for bidirection \n",
    "        c0 = torch.zeros(self.num_layers*2, x.size(0), self.hidden_size).to(device)\n",
    "        \n",
    "        # lstm_out: tensor of shape (batch_size, seq_length, hidden_size*2) - \n",
    "        # tensor containing the output features (h_t) from the last layer of the LSTM, for each t\n",
    "        \n",
    "        # last_hidden_state : (num_layers*2, batch_size, hidden_size) -\n",
    "        #  tensor containing the hidden state for t = seq_len ; used for backprop...\n",
    "        lstm_out, (last_hidden_state, last_cell_state) = self.lstm(x, (h0, c0)) \n",
    "        \n",
    "        lstm_out = self.dropout3(lstm_out)\n",
    "        \n",
    "        attention_out = self.attention_layer(lstm_out.permute(1,0,2), x)\n",
    "        h_star = self.dropout2(nn.Tanh()(attention_out))\n",
    "        out = self.fc(self.dropout((h_star)))\n",
    "        return out\n",
    "\n",
    "sarcarsm_model = SarcasmNet(input_size_pos, hidden_size_pos, num_layers, num_classes, lstm_dropout, \n",
    "                       sequence_length, alpha_dropout).to(device)\n",
    "\n",
    "\n",
    "# Loss and optimizer\n",
    "criterion = nn.CrossEntropyLoss()\n",
    "optimizer = torch.optim.Adam(sarcarsm_model.parameters(), lr=learning_rate, weight_decay=0.00001)\n",
    "    \n"
   ]
  },
  {
   "cell_type": "code",
   "execution_count": 92,
   "metadata": {},
   "outputs": [],
   "source": [
    "## Create data with POS tagging -\n",
    "\n",
    "X_train_pos, y_train_pos, X_val_pos, y_val_pos, X_test_pos, y_test_pos  = gen_data(curr_word2vec_model, True)\n",
    "\n",
    "# X_train_pos, X_val_pos, X_test_pos = X_train_pos[:,:,:-1], X_val_pos[:,:,:-1], X_test_pos[:,:,:-1]\n",
    "\n",
    "\n",
    "pos_train_dataset = torch.utils.data.TensorDataset(torch.from_numpy(X_train_pos).float(), torch.from_numpy(y_train_pos).long())\n",
    "pos_train_loader =  torch.utils.data.DataLoader(pos_train_dataset, batch_size=batch_size, shuffle=False)\n",
    "\n",
    "pos_test_dataset = torch.utils.data.TensorDataset(torch.from_numpy(X_test_pos).float(), torch.from_numpy(y_test_pos).long())\n",
    "pos_test_loader =  torch.utils.data.DataLoader(pos_test_dataset, batch_size=batch_size, shuffle=False)\n",
    "\n",
    "pos_val_dataset = torch.utils.data.TensorDataset(torch.from_numpy(X_val_pos).float(), torch.from_numpy(y_val_pos).long())\n",
    "pos_val_loader =  torch.utils.data.DataLoader(pos_val_dataset, batch_size=batch_size, shuffle=False)\n",
    "\n",
    "pos_data_loader = {\"train\" : pos_train_loader, \"test\" : pos_test_loader, \"val\" : pos_val_loader}"
   ]
  },
  {
   "cell_type": "code",
   "execution_count": null,
   "metadata": {},
   "outputs": [],
   "source": []
  },
  {
   "cell_type": "code",
   "execution_count": 98,
   "metadata": {},
   "outputs": [
    {
     "name": "stdout",
     "output_type": "stream",
     "text": [
      "-*-*-*-*-*-*-*-*-*-*\n",
      "Epoch 1/8\n",
      "train Loss: 0.3033  |  Acc: 0.7687 \n",
      "val Loss: 0.3607  |  Acc: 0.8459 \n",
      "-*-*-*-*-*-*-*-*-*-*\n",
      "Epoch 2/8\n",
      "train Loss: 0.2189  |  Acc: 0.8582 \n",
      "val Loss: 0.2340  |  Acc: 0.8557 \n",
      "-*-*-*-*-*-*-*-*-*-*\n",
      "Epoch 3/8\n",
      "train Loss: 0.2052  |  Acc: 0.9045 \n",
      "val Loss: 0.1753  |  Acc: 0.8686 \n",
      "-*-*-*-*-*-*-*-*-*-*\n",
      "Epoch 4/8\n",
      "train Loss: 0.1835  |  Acc: 0.9174 \n",
      "val Loss: 0.1743  |  Acc: 0.8700 \n",
      "-*-*-*-*-*-*-*-*-*-*\n",
      "Epoch 5/8\n",
      "train Loss: 0.1889  |  Acc: 0.9184 \n",
      "val Loss: 0.1729  |  Acc: 0.8704 \n",
      "-*-*-*-*-*-*-*-*-*-*\n",
      "Epoch 6/8\n",
      "train Loss: 0.1813  |  Acc: 0.9209 \n",
      "val Loss: 0.1725  |  Acc: 0.8704 \n",
      "-*-*-*-*-*-*-*-*-*-*\n",
      "Epoch 7/8\n",
      "train Loss: 0.1886  |  Acc: 0.9209 \n",
      "val Loss: 0.1725  |  Acc: 0.8704 \n",
      "-*-*-*-*-*-*-*-*-*-*\n",
      "Epoch 8/8\n",
      "train Loss: 0.2147  |  Acc: 0.9206 \n",
      "val Loss: 0.1725  |  Acc: 0.8704 \n"
     ]
    }
   ],
   "source": [
    "# Train the model\n",
    "best_sarcasm_model = train_model(sarcarsm_model, criterion, num_epochs, pos_data_loader, optimizer, input_size_pos)"
   ]
  },
  {
   "cell_type": "code",
   "execution_count": 100,
   "metadata": {},
   "outputs": [
    {
     "data": {
      "image/png": "[encoded data removed]",
      "text/plain": [
       "<Figure size 432x864 with 2 Axes>"
      ]
     },
     "metadata": {
      "needs_background": "light"
     },
     "output_type": "display_data"
    }
   ],
   "source": [
    "plot_graphs(best_sarcasm_model)"
   ]
  },
  {
   "cell_type": "code",
   "execution_count": 99,
   "metadata": {},
   "outputs": [
    {
     "data": {
      "image/png": "[encoded data removed]",
      "text/plain": [
       "<Figure size 432x288 with 1 Axes>"
      ]
     },
     "metadata": {
      "needs_background": "light"
     },
     "output_type": "display_data"
    }
   ],
   "source": [
    "# example from here - https://www.dlology.com/blog/simple-guide-on-how-to-generate-roc-plot-for-keras-classifier/\n",
    "\n",
    "# 1 - LR results\n",
    "fpr_LR, tpr_LR, thresholds_LR = roc_curve(y_test, y_LR_test)\n",
    "auc_LR = metrics.auc(fpr_LR, tpr_LR) # area under curve\n",
    "\n",
    "\n",
    "# 2 - LSTM model \n",
    "res_lstm = best_lstm_model(torch.from_numpy(X_test).float().to(device)).to('cpu').detach().numpy()\n",
    "y_test_lstm = res_lstm[:, 1]\n",
    "\n",
    "fpr_lstm, tpr_lstm, thresholds_lstm = roc_curve(y_test, y_test_lstm)\n",
    "auc_lstm = metrics.auc(fpr_lstm, tpr_lstm) # area under curve\n",
    "\n",
    "\n",
    "# 3 - attention model\n",
    "res_att = best_att_model(torch.from_numpy(X_test).float().to(device)).to('cpu').detach().numpy()\n",
    "y_test_att = res_att[:, 1]\n",
    "\n",
    "fpr_att, tpr_att, thresholds_att = roc_curve(y_test, y_test_att)\n",
    "auc_att = metrics.auc(fpr_att, tpr_att) # area under curve\n",
    "\n",
    "\n",
    "# 4 - Final model \n",
    "res_pos = best_sarcasm_model(torch.from_numpy(X_test_pos).float().to(device)).to('cpu').detach().numpy()\n",
    "y_test_sarcasm = res_pos[:, 1]\n",
    "\n",
    "fpr_sarcasm_model, tpr_sarcasm_model, thresholds_sarcasm_model = roc_curve(y_test_pos, y_test_sarcasm)\n",
    "auc_sarcasm_model = metrics.auc(fpr_sarcasm_model, tpr_sarcasm_model) # area under curve\n",
    "\n",
    "\n",
    "plt.figure(1)\n",
    "plt.plot([0, 1], [0, 1], 'k--')\n",
    "plt.plot(fpr_LR, tpr_LR, label='Predicted LR (area = {:.3f})'.format(auc_LR))\n",
    "plt.plot(fpr_lstm, tpr_lstm, label='Predicted lstm (area = {:.3f})'.format(auc_lstm))\n",
    "plt.plot(fpr_att, tpr_att, label='Predicted attention (area = {:.3f})'.format(auc_att))\n",
    "plt.plot(fpr_sarcasm_model, tpr_sarcasm_model, label='Predicted sarcasm_model (area = {:.3f})'.format(auc_sarcasm_model))\n",
    "plt.xlabel('False positive rate')\n",
    "plt.ylabel('True positive rate')\n",
    "plt.title('ROC curve')\n",
    "plt.legend(loc='best')\n",
    "plt.show()\n"
   ]
  }
 ],
 "metadata": {
  "kernelspec": {
   "display_name": "Python 3",
   "language": "python",
   "name": "python3"
  },
  "language_info": {
   "codemirror_mode": {
    "name": "ipython",
    "version": 3
   },
   "file_extension": ".py",
   "mimetype": "text/x-python",
   "name": "python",
   "nbconvert_exporter": "python",
   "pygments_lexer": "ipython3",
   "version": "3.6.8"
  }
 },
 "nbformat": 4,
 "nbformat_minor": 2
}
